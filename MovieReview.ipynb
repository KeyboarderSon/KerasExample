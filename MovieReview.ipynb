{
  "nbformat": 4,
  "nbformat_minor": 0,
  "metadata": {
    "colab": {
      "name": "KerasMovie.ipynb",
      "provenance": [],
      "collapsed_sections": [],
      "authorship_tag": "ABX9TyPXExQsrV4ot7neDjyYp4ig",
      "include_colab_link": true
    },
    "kernelspec": {
      "name": "python3",
      "display_name": "Python 3"
    }
  },
  "cells": [
    {
      "cell_type": "markdown",
      "metadata": {
        "id": "view-in-github",
        "colab_type": "text"
      },
      "source": [
        "<a href=\"https://colab.research.google.com/github/KeyboarderSon/KerasExample/blob/main/MovieReview.ipynb\" target=\"_parent\"><img src=\"https://colab.research.google.com/assets/colab-badge.svg\" alt=\"Open In Colab\"/></a>"
      ]
    },
    {
      "cell_type": "markdown",
      "metadata": {
        "id": "O-1apKf3BmQZ"
      },
      "source": [
        "## 양극단의 영화 리뷰"
      ]
    },
    {
      "cell_type": "markdown",
      "metadata": {
        "id": "OO-nT8lXrX6c"
      },
      "source": [
        "### IMDB 데이터셋"
      ]
    },
    {
      "cell_type": "markdown",
      "metadata": {
        "id": "nzg4d0m-ByBw"
      },
      "source": [
        "훈련 데이터, 테스트 데이터 각각 25000개로 나뉘어있고 각각 50%의 긍정, 부정으로 구성되어있다.\r\n",
        "<br>88584개의 쌍으로 이루어져있고 자주 나타나는 빈도 순으로 정렬되어있다.\r\n",
        "<br>\r\n",
        "```num_words=10000``` : 훈련 데이터에서 가장 자주 나타나는 단어 1위부터 10000위까지만 사용하겠다\r\n",
        "\r\n",
        "\r\n",
        "<br>\r\n",
        "그러므로 train_data, test_data 모두 단어가 자주 나타나는 빈도 10000위를 넘어가는 단어는 무시하고 나타내어진다."
      ]
    },
    {
      "cell_type": "code",
      "metadata": {
        "colab": {
          "base_uri": "https://localhost:8080/"
        },
        "id": "w3XJ7yGDBStB",
        "outputId": "075446dc-c849-4fd3-b17a-9f1e18840309"
      },
      "source": [
        "from keras.datasets import imdb\r\n",
        "\r\n",
        "(train_data, train_labels), (test_data, test_labels) = imdb.load_data(\r\n",
        "    num_words=10000\r\n",
        ")"
      ],
      "execution_count": 1,
      "outputs": [
        {
          "output_type": "stream",
          "text": [
            "Downloading data from https://storage.googleapis.com/tensorflow/tf-keras-datasets/imdb.npz\n",
            "17465344/17464789 [==============================] - 1s 0us/step\n"
          ],
          "name": "stdout"
        },
        {
          "output_type": "stream",
          "text": [
            "<string>:6: VisibleDeprecationWarning: Creating an ndarray from ragged nested sequences (which is a list-or-tuple of lists-or-tuples-or ndarrays with different lengths or shapes) is deprecated. If you meant to do this, you must specify 'dtype=object' when creating the ndarray\n",
            "/usr/local/lib/python3.7/dist-packages/tensorflow/python/keras/datasets/imdb.py:159: VisibleDeprecationWarning: Creating an ndarray from ragged nested sequences (which is a list-or-tuple of lists-or-tuples-or ndarrays with different lengths or shapes) is deprecated. If you meant to do this, you must specify 'dtype=object' when creating the ndarray\n",
            "  x_train, y_train = np.array(xs[:idx]), np.array(labels[:idx])\n",
            "/usr/local/lib/python3.7/dist-packages/tensorflow/python/keras/datasets/imdb.py:160: VisibleDeprecationWarning: Creating an ndarray from ragged nested sequences (which is a list-or-tuple of lists-or-tuples-or ndarrays with different lengths or shapes) is deprecated. If you meant to do this, you must specify 'dtype=object' when creating the ndarray\n",
            "  x_test, y_test = np.array(xs[idx:]), np.array(labels[idx:])\n"
          ],
          "name": "stderr"
        }
      ]
    },
    {
      "cell_type": "code",
      "metadata": {
        "colab": {
          "base_uri": "https://localhost:8080/"
        },
        "id": "aqdfS-7uBff2",
        "outputId": "aaa6b74c-7d47-4e44-b92f-acdfd0989e26"
      },
      "source": [
        "print(train_data[0])\r\n",
        "print(train_labels[0])"
      ],
      "execution_count": 2,
      "outputs": [
        {
          "output_type": "stream",
          "text": [
            "[1, 14, 22, 16, 43, 530, 973, 1622, 1385, 65, 458, 4468, 66, 3941, 4, 173, 36, 256, 5, 25, 100, 43, 838, 112, 50, 670, 2, 9, 35, 480, 284, 5, 150, 4, 172, 112, 167, 2, 336, 385, 39, 4, 172, 4536, 1111, 17, 546, 38, 13, 447, 4, 192, 50, 16, 6, 147, 2025, 19, 14, 22, 4, 1920, 4613, 469, 4, 22, 71, 87, 12, 16, 43, 530, 38, 76, 15, 13, 1247, 4, 22, 17, 515, 17, 12, 16, 626, 18, 2, 5, 62, 386, 12, 8, 316, 8, 106, 5, 4, 2223, 5244, 16, 480, 66, 3785, 33, 4, 130, 12, 16, 38, 619, 5, 25, 124, 51, 36, 135, 48, 25, 1415, 33, 6, 22, 12, 215, 28, 77, 52, 5, 14, 407, 16, 82, 2, 8, 4, 107, 117, 5952, 15, 256, 4, 2, 7, 3766, 5, 723, 36, 71, 43, 530, 476, 26, 400, 317, 46, 7, 4, 2, 1029, 13, 104, 88, 4, 381, 15, 297, 98, 32, 2071, 56, 26, 141, 6, 194, 7486, 18, 4, 226, 22, 21, 134, 476, 26, 480, 5, 144, 30, 5535, 18, 51, 36, 28, 224, 92, 25, 104, 4, 226, 65, 16, 38, 1334, 88, 12, 16, 283, 5, 16, 4472, 113, 103, 32, 15, 16, 5345, 19, 178, 32]\n",
            "1\n"
          ],
          "name": "stdout"
        }
      ]
    },
    {
      "cell_type": "markdown",
      "metadata": {
        "id": "4anm80ELDObi"
      },
      "source": [
        "```word_index``` : 단어와 정수 인덱스를 매핑한 딕셔너리\r\n",
        "\r\n",
        "|key|value|\r\n",
        "|------|---|\r\n",
        "|'this'|11|\r\n",
        "|'film|19|\r\n"
      ]
    },
    {
      "cell_type": "code",
      "metadata": {
        "colab": {
          "base_uri": "https://localhost:8080/"
        },
        "id": "lYFnL4_BCHAq",
        "outputId": "a3f7e493-74a2-4fe4-9910-ca7faa275c18"
      },
      "source": [
        "word_index=imdb.get_word_index()\r\n",
        "\r\n",
        "print(word_index['this'])\r\n",
        "print(word_index['film'])"
      ],
      "execution_count": 16,
      "outputs": [
        {
          "output_type": "stream",
          "text": [
            "11\n",
            "19\n"
          ],
          "name": "stdout"
        }
      ]
    },
    {
      "cell_type": "code",
      "metadata": {
        "colab": {
          "base_uri": "https://localhost:8080/"
        },
        "id": "x8x9p7pz3_Hg",
        "outputId": "fcbf94c1-1c34-4282-da9a-465a997bc59b"
      },
      "source": [
        "print(len(word_index))"
      ],
      "execution_count": 20,
      "outputs": [
        {
          "output_type": "stream",
          "text": [
            "88584\n"
          ],
          "name": "stdout"
        }
      ]
    },
    {
      "cell_type": "markdown",
      "metadata": {
        "id": "60hdt-rdIIlH"
      },
      "source": [
        "{index : 단어} 형태가 되도록 뒤집은 ```reverse_word_index```<br>\r\n",
        "```' '.join``` : 리스트를 문자열로<br>\r\n",
        "리스트 요소 사이사이에 ' (스페이스바)'를 집어넣는다. 그래서 하나의 문장이 완성된다.<br>\r\n",
        "```dict.get(i-3, '?')``` : i-3에 해당하는 key 값이 존재하지 않으면 디폴트인 '?'를 내뱉는다.<br>\r\n",
        "i-3을 한 이유는 0, 1, 2는 각각 '패딩', '문서 시작', '사전에 없음'을 위한 인덱스이고 3부터 단어가 시작되기 때문에 그렇다. 이는 IMDB 리뷰 데이터셋에서 정한 규칙이다.\r\n",
        "\r\n",
        "\r\n",
        "아래와 같은 형태가 되도록 revese_word_index\r\n",
        "\r\n",
        "|key|value|\r\n",
        "|------|---|\r\n",
        "|11|'this'|\r\n",
        "|19|'film'|\r\n",
        "\r\n",
        "\r\n",
        "\r\n"
      ]
    },
    {
      "cell_type": "code",
      "metadata": {
        "id": "puRxt0vvF5hE"
      },
      "source": [
        "#정수 인덱스와 단어를 매핑하도록 뒤집는다.\r\n",
        "reverse_word_index = dict(\r\n",
        "    [(value, key) for (key, value) in word_index.items()])\r\n",
        "decoded_review = ' '.join(\r\n",
        "    [reverse_word_index.get(i-3, '?') for i in train_data[0]])"
      ],
      "execution_count": 45,
      "outputs": []
    },
    {
      "cell_type": "markdown",
      "metadata": {
        "id": "9Go93RpayCH_"
      },
      "source": [
        "train_data[0]을 해독해보면,"
      ]
    },
    {
      "cell_type": "code",
      "metadata": {
        "colab": {
          "base_uri": "https://localhost:8080/"
        },
        "id": "rnZyaw66yFwA",
        "outputId": "70cb6e18-928f-4e56-cf54-3ffa866ffc8b"
      },
      "source": [
        "print(decoded_review)"
      ],
      "execution_count": 7,
      "outputs": [
        {
          "output_type": "stream",
          "text": [
            "? this film was just brilliant casting location scenery story direction everyone's really suited the part they played and you could just imagine being there robert ? is an amazing actor and now the same being director ? father came from the same scottish island as myself so i loved the fact there was a real connection with this film the witty remarks throughout the film were great it was just brilliant so much that i bought the film as soon as it was released for ? and would recommend it to everyone to watch and the fly fishing was amazing really cried at the end it was so sad and you know what they say if you cry at a film it must have been good and this definitely was also ? to the two little boy's that played the ? of norman and paul they were just brilliant children are often left out of the ? list i think because the stars that play them all grown up are such a big profile for the whole film but these children are amazing and should be praised for what they have done don't you think the whole story was so lovely because it was true and was someone's life after all that was shared with us all\n"
          ],
          "name": "stdout"
        }
      ]
    },
    {
      "cell_type": "markdown",
      "metadata": {
        "id": "He0unx9irdAL"
      },
      "source": [
        "### 데이터 전처리"
      ]
    },
    {
      "cell_type": "markdown",
      "metadata": {
        "id": "EehuikaOr9xr"
      },
      "source": [
        "**리스트를 텐서로 바꾸는 방법**\r\n",
        "\r\n",
        "* 같은 길이가 되도록 리스트에 padding을 추가하고 (samples, max sequence length)로 변환한다. 여기서는 제일 긴 리뷰는 2494개의 단어로 이루어져 있으므로 변환한 텐서의 크기는 (25000, 2494)가 된다.<br>\r\n",
        "이 정수 텐서를 다룰 수 있는 embedding층을 사용한다.\r\n",
        "* 리스트를 one-hot encoding 하여 0과 1의 벡터로 변환한다. 시퀀스에 해당되는 index만 1, 나머지는 0인 (25000, 10000)의 형태가 되겠다(25000개의 리뷰, 10000개의 자주쓰이는 단어).<br>\r\n",
        "부동 소수 벡터 데이터를 다룰 수 있는 Dense 층을 사용한다.\r\n",
        "\r\n",
        "<br>\r\n",
        "\r\n",
        "여기서는 후자인 one-hot encoding을 이용한 방식을 사용해보겠다.\r\n",
        "\r\n",
        "x_train\r\n",
        "[ [리뷰 1],<br>\r\n",
        "  [리뷰 2],<br>\r\n",
        " ...<br>\r\n",
        " [리뷰 25000] ]\r\n",
        "\r\n",
        "<br>\r\n",
        "인 것이고 각 리뷰마다 자주 쓰는 단어 1위부터 10000위까지의 단어로만 나타내었으니 리뷰 하나당 요소가 10000개인 vector으로 \r\n",
        "나타낼 수 있는 것이다.\r\n",
        "\r\n",
        "<br>\r\n",
        "\r\n",
        "단어 인덱스에 해당하는 result index의 값이 1, 나머지는 0이 된다.\r\n",
        "\r\n",
        "<br>\r\n",
        "\r\n",
        "말하자면 이 작업을 통해서 this, film, was ... 와 같은 문장의 단어 순서는 관계 없어지고 각 단어의 존재성 유무만 따지게 된다."
      ]
    },
    {
      "cell_type": "code",
      "metadata": {
        "id": "VXE4COr4G1c6"
      },
      "source": [
        "import numpy as np\r\n",
        "\r\n",
        "def vectorize_sequences(sequences, dimension=10000):\r\n",
        "  results = np.zeros((len(sequences), dimension))\r\n",
        "  for i, sequence in enumerate(sequences):\r\n",
        "    results[i, sequence] = 1.\r\n",
        "  return results\r\n",
        "\r\n",
        "\r\n",
        "x_train = vectorize_sequences(train_data)\r\n",
        "x_test = vectorize_sequences(test_data)"
      ],
      "execution_count": 6,
      "outputs": []
    },
    {
      "cell_type": "code",
      "metadata": {
        "colab": {
          "base_uri": "https://localhost:8080/"
        },
        "id": "Ys6cuNKCvMqz",
        "outputId": "060a6781-d623-4c8d-8f32-91fd7ae169a1"
      },
      "source": [
        "print(x_train[0])"
      ],
      "execution_count": 23,
      "outputs": [
        {
          "output_type": "stream",
          "text": [
            "[0. 1. 1. ... 0. 0. 0.]\n"
          ],
          "name": "stdout"
        }
      ]
    },
    {
      "cell_type": "markdown",
      "metadata": {
        "id": "uv4cygrd81T8"
      },
      "source": [
        "라벨은 각 리뷰에 대하여 긍정 혹은 부정만 뜻하는 것이므로 쉽게 벡터로 바꿀 수 있다."
      ]
    },
    {
      "cell_type": "code",
      "metadata": {
        "colab": {
          "base_uri": "https://localhost:8080/"
        },
        "id": "cGb2R3O23l3-",
        "outputId": "cc5ab424-83a0-4d8a-d6aa-7ddcc51f0348"
      },
      "source": [
        "print(train_labels.shape)"
      ],
      "execution_count": 27,
      "outputs": [
        {
          "output_type": "stream",
          "text": [
            "(25000,)\n"
          ],
          "name": "stdout"
        }
      ]
    },
    {
      "cell_type": "code",
      "metadata": {
        "id": "CuoQQccV89pp"
      },
      "source": [
        "y_train = np.asarray(train_labels).astype('float32')\r\n",
        "y_test = np.asarray(test_labels.astype('float32'))"
      ],
      "execution_count": 28,
      "outputs": []
    },
    {
      "cell_type": "markdown",
      "metadata": {
        "id": "No1xB-B2KbEv"
      },
      "source": [
        "**훈련데이터와 검증데이터 나누기**\r\n",
        "\r\n",
        "훈련하는 동안 처음 본 데이터에 대한 모델의 정확도를 측정하기 위함이다."
      ]
    },
    {
      "cell_type": "code",
      "metadata": {
        "id": "y_Yi51iTKZX8"
      },
      "source": [
        "x_val = x_train[:10000]\r\n",
        "partial_x_train = x_train[10000:]\r\n",
        "y_val = y_train[:10000]\r\n",
        "partial_y_train = y_train[10000:]"
      ],
      "execution_count": 32,
      "outputs": []
    },
    {
      "cell_type": "markdown",
      "metadata": {
        "id": "uHsU32M2_dvf"
      },
      "source": [
        "### 신경망 모델 만들기"
      ]
    },
    {
      "cell_type": "markdown",
      "metadata": {
        "id": "7Z65zD0i_gX8"
      },
      "source": [
        "Dense 층을 쌓을 때 두 가지 중요한 결정을 해야 한다.\r\n",
        "\r\n",
        "* 얼마나 많은 층을 쌓을 것인가?\r\n",
        "* 각 층마다 hidden state는 몇 개나 둘 것인가?\r\n",
        "\r\n",
        "<br>\r\n",
        "여기서는 16개의 hidden state를 가진 2개의 은닉 층과,<br>\r\n",
        "현재 리뷰의 감정을 스칼라 값의 예측으로 출력하는 세번째 층의 구조를 따르겠다.\r\n",
        "<br><br>\r\n",
        "\r\n",
        "**활성화 함수**\r\n",
        "\r\n",
        "|사용되는 층|activation func|용도|\r\n",
        "|------|---|---|\r\n",
        "|은닉층|ReLU|기울기 소실 문제를 줄이고\r\n",
        "|||다음 층으로 신호 전달|\r\n",
        "|출력층|sigmoid|이진 분류|\r\n",
        "||softmax|다중 분류|\r\n",
        "||사용 x|회귀|\r\n",
        "\r\n",
        "<br><br>\r\n",
        "\r\n",
        "\r\n",
        "**손실함수**\r\n",
        "\r\n",
        "|손실함수|용도|\r\n",
        "|---|---|\r\n",
        "|Binary Cross-Entropy|이진 분류|\r\n",
        "|Categorical Cross-Entropy|다중 분류|\r\n",
        "|Mean Squared Error|회귀|\r\n",
        "\r\n",
        "\r\n",
        "\r\n",
        "**Optimizer**\r\n",
        "* SGD : 일부 데이터 샘플을 무작위로 추출하여(Stochastic) 일부만 경사 하강법에 사용해 학습 속도를 향상시킨다.\r\n",
        "* RMSProp : 기울기에 따라 learning rate를 조절한다. learning rate에 융통성을 부여\r\n",
        "* Momentum : 관성의 개념을 부여했다. local minimum에 빠지는 것을 해소하기 위한 방법이다.\r\n",
        "* Adam : RMSProp + Momentum의 장점을 합침."
      ]
    },
    {
      "cell_type": "markdown",
      "metadata": {
        "id": "ma22hVYBIb6f"
      },
      "source": [
        "2개의 은닉층에는 ReLU를, 마지막 출력층에서는 sigmoid를 사용한다.<br>\r\n",
        "sigmoid는 0과 1 사이의 값으로 나타내어져 확률값처럼 사용할 수 있다."
      ]
    },
    {
      "cell_type": "code",
      "metadata": {
        "colab": {
          "base_uri": "https://localhost:8080/"
        },
        "id": "4-mD6TpG_cGD",
        "outputId": "dd44f49e-e8c4-4162-ad6c-7d164d663cff"
      },
      "source": [
        "from keras import models\r\n",
        "from keras import layers\r\n",
        "\r\n",
        "model = models.Sequential()\r\n",
        "model.add(layers.Dense(16, activation='relu', input_shape=(10000,)))\r\n",
        "model.add(layers.Dense(16, activation='relu'))\r\n",
        "model.add(layers.Dense(1, activation='sigmoid'))\r\n",
        "\r\n",
        "\r\n",
        "model.summary()"
      ],
      "execution_count": 29,
      "outputs": [
        {
          "output_type": "stream",
          "text": [
            "Model: \"sequential\"\n",
            "_________________________________________________________________\n",
            "Layer (type)                 Output Shape              Param #   \n",
            "=================================================================\n",
            "dense (Dense)                (None, 16)                160016    \n",
            "_________________________________________________________________\n",
            "dense_1 (Dense)              (None, 16)                272       \n",
            "_________________________________________________________________\n",
            "dense_2 (Dense)              (None, 1)                 17        \n",
            "=================================================================\n",
            "Total params: 160,305\n",
            "Trainable params: 160,305\n",
            "Non-trainable params: 0\n",
            "_________________________________________________________________\n"
          ],
          "name": "stdout"
        }
      ]
    },
    {
      "cell_type": "code",
      "metadata": {
        "id": "wJBc2iQIJgvn"
      },
      "source": [
        "model.compile(optimizer='rmsprop',\r\n",
        "              loss='binary_crossentropy',\r\n",
        "              metrics=['accuracy'])\r\n"
      ],
      "execution_count": 30,
      "outputs": []
    },
    {
      "cell_type": "markdown",
      "metadata": {
        "id": "312FW7PCLIlg"
      },
      "source": [
        "### 모델 훈련"
      ]
    },
    {
      "cell_type": "code",
      "metadata": {
        "colab": {
          "base_uri": "https://localhost:8080/"
        },
        "id": "uoim9-BqJ1Oq",
        "outputId": "066eb87d-9542-46bf-fa2d-776c18c68c1b"
      },
      "source": [
        "history = model.fit(partial_x_train,\r\n",
        "                    partial_y_train,\r\n",
        "                    epochs=20,\r\n",
        "                    batch_size=512,\r\n",
        "                    validation_data=(x_val, y_val))"
      ],
      "execution_count": 33,
      "outputs": [
        {
          "output_type": "stream",
          "text": [
            "Epoch 1/20\n",
            "30/30 [==============================] - 2s 40ms/step - loss: 0.6303 - accuracy: 0.6416 - val_loss: 0.4822 - val_accuracy: 0.8204\n",
            "Epoch 2/20\n",
            "30/30 [==============================] - 1s 28ms/step - loss: 0.4223 - accuracy: 0.8801 - val_loss: 0.3552 - val_accuracy: 0.8817\n",
            "Epoch 3/20\n",
            "30/30 [==============================] - 1s 29ms/step - loss: 0.2796 - accuracy: 0.9240 - val_loss: 0.3015 - val_accuracy: 0.8851\n",
            "Epoch 4/20\n",
            "30/30 [==============================] - 1s 28ms/step - loss: 0.2009 - accuracy: 0.9468 - val_loss: 0.2977 - val_accuracy: 0.8806\n",
            "Epoch 5/20\n",
            "30/30 [==============================] - 1s 28ms/step - loss: 0.1627 - accuracy: 0.9550 - val_loss: 0.2777 - val_accuracy: 0.8894\n",
            "Epoch 6/20\n",
            "30/30 [==============================] - 1s 29ms/step - loss: 0.1324 - accuracy: 0.9647 - val_loss: 0.2872 - val_accuracy: 0.8857\n",
            "Epoch 7/20\n",
            "30/30 [==============================] - 1s 28ms/step - loss: 0.1130 - accuracy: 0.9689 - val_loss: 0.2940 - val_accuracy: 0.8848\n",
            "Epoch 8/20\n",
            "30/30 [==============================] - 1s 28ms/step - loss: 0.0937 - accuracy: 0.9758 - val_loss: 0.3168 - val_accuracy: 0.8822\n",
            "Epoch 9/20\n",
            "30/30 [==============================] - 1s 29ms/step - loss: 0.0787 - accuracy: 0.9803 - val_loss: 0.3301 - val_accuracy: 0.8791\n",
            "Epoch 10/20\n",
            "30/30 [==============================] - 1s 28ms/step - loss: 0.0719 - accuracy: 0.9839 - val_loss: 0.3494 - val_accuracy: 0.8778\n",
            "Epoch 11/20\n",
            "30/30 [==============================] - 1s 28ms/step - loss: 0.0546 - accuracy: 0.9881 - val_loss: 0.3682 - val_accuracy: 0.8778\n",
            "Epoch 12/20\n",
            "30/30 [==============================] - 1s 28ms/step - loss: 0.0453 - accuracy: 0.9915 - val_loss: 0.3943 - val_accuracy: 0.8752\n",
            "Epoch 13/20\n",
            "30/30 [==============================] - 1s 28ms/step - loss: 0.0384 - accuracy: 0.9926 - val_loss: 0.4253 - val_accuracy: 0.8732\n",
            "Epoch 14/20\n",
            "30/30 [==============================] - 1s 28ms/step - loss: 0.0317 - accuracy: 0.9942 - val_loss: 0.4460 - val_accuracy: 0.8732\n",
            "Epoch 15/20\n",
            "30/30 [==============================] - 1s 28ms/step - loss: 0.0259 - accuracy: 0.9954 - val_loss: 0.4731 - val_accuracy: 0.8728\n",
            "Epoch 16/20\n",
            "30/30 [==============================] - 1s 27ms/step - loss: 0.0224 - accuracy: 0.9964 - val_loss: 0.5149 - val_accuracy: 0.8683\n",
            "Epoch 17/20\n",
            "30/30 [==============================] - 1s 28ms/step - loss: 0.0188 - accuracy: 0.9975 - val_loss: 0.5320 - val_accuracy: 0.8678\n",
            "Epoch 18/20\n",
            "30/30 [==============================] - 1s 28ms/step - loss: 0.0132 - accuracy: 0.9988 - val_loss: 0.5624 - val_accuracy: 0.8677\n",
            "Epoch 19/20\n",
            "30/30 [==============================] - 1s 28ms/step - loss: 0.0096 - accuracy: 0.9994 - val_loss: 0.5989 - val_accuracy: 0.8656\n",
            "Epoch 20/20\n",
            "30/30 [==============================] - 1s 28ms/step - loss: 0.0094 - accuracy: 0.9994 - val_loss: 0.6244 - val_accuracy: 0.8657\n"
          ],
          "name": "stdout"
        }
      ]
    },
    {
      "cell_type": "markdown",
      "metadata": {
        "id": "E6858HZmMp2u"
      },
      "source": [
        "현재  history 객체의 속성인 history에 훈련하는 동안 발생하는 모든 정보를 담고있다."
      ]
    },
    {
      "cell_type": "code",
      "metadata": {
        "colab": {
          "base_uri": "https://localhost:8080/"
        },
        "id": "rYC0hufYLiP5",
        "outputId": "dcb5a579-67ea-45b5-ba7b-afd747f0dcf8"
      },
      "source": [
        "history_dict = history.history\r\n",
        "print(type(history_dict))\r\n",
        "print(\"history_dict가 가지고 있는 key 요소 : \", history_dict.keys())"
      ],
      "execution_count": 36,
      "outputs": [
        {
          "output_type": "stream",
          "text": [
            "<class 'dict'>\n",
            "history_dict가 가지고 있는 key 요소 :  dict_keys(['loss', 'accuracy', 'val_loss', 'val_accuracy'])\n"
          ],
          "name": "stdout"
        }
      ]
    },
    {
      "cell_type": "markdown",
      "metadata": {
        "id": "jggrgUEmNCUZ"
      },
      "source": [
        "### 훈련과 검증 손실 그래프 그리기"
      ]
    },
    {
      "cell_type": "code",
      "metadata": {
        "colab": {
          "base_uri": "https://localhost:8080/",
          "height": 295
        },
        "id": "aOIYFMExMjxF",
        "outputId": "b0e69726-f473-44d9-ee98-f3d32f8ffb4e"
      },
      "source": [
        "import matplotlib.pyplot as plt\r\n",
        "\r\n",
        "loss = history_dict['loss']\r\n",
        "val_loss = history_dict['val_loss']\r\n",
        "\r\n",
        "epochs = range(1, len(loss)+1)\r\n",
        "\r\n",
        "plt.plot(epochs, loss, 'bo', label='Training loss')\r\n",
        "plt.plot(epochs, val_loss, 'b', label='Validation loss')\r\n",
        "plt.title('Training and validation loss')\r\n",
        "plt.xlabel('Epochs')\r\n",
        "plt.ylabel('Loss')\r\n",
        "plt.legend()\r\n",
        "\r\n",
        "plt.show()"
      ],
      "execution_count": 37,
      "outputs": [
        {
          "output_type": "display_data",
          "data": {
            "image/png": "[encoded data removed]",
            "text/plain": [
              "<Figure size 432x288 with 1 Axes>"
            ]
          },
          "metadata": {
            "tags": [],
            "needs_background": "light"
          }
        }
      ]
    },
    {
      "cell_type": "markdown",
      "metadata": {
        "id": "uqa3c6zUOhmK"
      },
      "source": [
        "### 훈련과 검증 정확도 그리기"
      ]
    },
    {
      "cell_type": "code",
      "metadata": {
        "colab": {
          "base_uri": "https://localhost:8080/",
          "height": 295
        },
        "id": "XTVasRB5NmsE",
        "outputId": "0270a14f-a5e0-4acf-ce2d-49aed3d8382b"
      },
      "source": [
        "plt.clf() # 그래프 초기화\r\n",
        "acc = history_dict['accuracy']\r\n",
        "val_acc = history_dict['val_accuracy']\r\n",
        "\r\n",
        "plt.plot(epochs, acc, 'bo', label='Training acc')\r\n",
        "plt.plot(epochs, val_acc, 'b', label='Validation acc')\r\n",
        "plt.title('Training and validation accuracy')\r\n",
        "plt.xlabel('Epochs')\r\n",
        "plt.ylabel('Accuracy')\r\n",
        "plt.legend()\r\n",
        "plt.show()"
      ],
      "execution_count": 40,
      "outputs": [
        {
          "output_type": "display_data",
          "data": {
            "image/png": "[encoded data removed]",
            "text/plain": [
              "<Figure size 432x288 with 1 Axes>"
            ]
          },
          "metadata": {
            "tags": [],
            "needs_background": "light"
          }
        }
      ]
    },
    {
      "cell_type": "markdown",
      "metadata": {
        "id": "ezLzwG8wPgva"
      },
      "source": [
        "*그래프를 보면 **Overfitting**이 발생했다*<br><br>\r\n",
        "\r\n",
        "두 번째 epoch 이후부터 훈련 데이터에 과도하게 최적화되어 훈련 데이터셋 이외의 데이터에는 일반화할 수 없다.<br><br>\r\n",
        "이러한 경우 과대적합을 방지하기 위해서 세 번째 epoch 이후에 훈련을 중지할 수 있다.\r\n",
        "<br><br>\r\n",
        "모델을 다시 훈련시켜보자."
      ]
    },
    {
      "cell_type": "code",
      "metadata": {
        "colab": {
          "base_uri": "https://localhost:8080/"
        },
        "id": "F3O8zFMyO_pn",
        "outputId": "d5b0a3ca-6eae-4e74-d0c5-35ea057e2b76"
      },
      "source": [
        "model = models.Sequential()\r\n",
        "model.add(layers.Dense(16, activation='relu', input_shape=(10000,)))\r\n",
        "model.add(layers.Dense(16, activation='relu'))\r\n",
        "model.add(layers.Dense(1, activation='sigmoid'))\r\n",
        "\r\n",
        "model.compile(optimizer='rmsprop',\r\n",
        "              loss='binary_crossentropy',\r\n",
        "              metrics=['accuracy'])\r\n",
        "\r\n",
        "model.fit(x_train, y_train, epochs=4, batch_size=512)\r\n",
        "results = model.evaluate(x_test, y_test)"
      ],
      "execution_count": 41,
      "outputs": [
        {
          "output_type": "stream",
          "text": [
            "Epoch 1/4\n",
            "49/49 [==============================] - 2s 22ms/step - loss: 0.5493 - accuracy: 0.7400\n",
            "Epoch 2/4\n",
            "49/49 [==============================] - 1s 22ms/step - loss: 0.2767 - accuracy: 0.9074\n",
            "Epoch 3/4\n",
            "49/49 [==============================] - 1s 22ms/step - loss: 0.2001 - accuracy: 0.9331\n",
            "Epoch 4/4\n",
            "49/49 [==============================] - 1s 21ms/step - loss: 0.1628 - accuracy: 0.9454\n",
            "782/782 [==============================] - 1s 2ms/step - loss: 0.2964 - accuracy: 0.8812\n"
          ],
          "name": "stdout"
        }
      ]
    },
    {
      "cell_type": "code",
      "metadata": {
        "colab": {
          "base_uri": "https://localhost:8080/"
        },
        "id": "XELJOfiKRQCy",
        "outputId": "8c031b37-3215-4858-cc9d-7009b6bc88c3"
      },
      "source": [
        "results"
      ],
      "execution_count": 42,
      "outputs": [
        {
          "output_type": "execute_result",
          "data": {
            "text/plain": [
              "[0.2963648736476898, 0.8811600208282471]"
            ]
          },
          "metadata": {
            "tags": []
          },
          "execution_count": 42
        }
      ]
    },
    {
      "cell_type": "markdown",
      "metadata": {
        "id": "y-D-U5UhRY1I"
      },
      "source": [
        "아주 단순한 방식으로 약 88퍼센트의 정확도에 달성했다!"
      ]
    },
    {
      "cell_type": "markdown",
      "metadata": {
        "id": "gTIJlIOLRkh7"
      },
      "source": [
        "### 훈련된 모델로 새로운 데이터에 대해 예측하기"
      ]
    },
    {
      "cell_type": "code",
      "metadata": {
        "colab": {
          "base_uri": "https://localhost:8080/"
        },
        "id": "Ye6pofJ0RTuo",
        "outputId": "5fd8308c-1be7-42de-d977-8ec115f4e10e"
      },
      "source": [
        "model.predict(x_test)"
      ],
      "execution_count": 44,
      "outputs": [
        {
          "output_type": "execute_result",
          "data": {
            "text/plain": [
              "array([[0.16621801],\n",
              "       [0.9996514 ],\n",
              "       [0.7737119 ],\n",
              "       ...,\n",
              "       [0.09562901],\n",
              "       [0.06620824],\n",
              "       [0.55519927]], dtype=float32)"
            ]
          },
          "metadata": {
            "tags": []
          },
          "execution_count": 44
        }
      ]
    },
    {
      "cell_type": "markdown",
      "metadata": {
        "id": "y8IUWNLeSNvv"
      },
      "source": [
        "어떤 샘플에 대해서는 0.99 이상이나 0.01 이하를 보이지만 어떤 샘플에 대해서는 확신이 없는 모델이다. "
      ]
    }
  ]
}