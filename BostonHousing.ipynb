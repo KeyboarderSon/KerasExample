{
  "nbformat": 4,
  "nbformat_minor": 0,
  "metadata": {
    "colab": {
      "name": "BostonHousing.ipynb",
      "provenance": [],
      "collapsed_sections": [],
      "authorship_tag": "ABX9TyOU63jWL7bKFMZo1h6ECeC8",
      "include_colab_link": true
    },
    "kernelspec": {
      "name": "python3",
      "display_name": "Python 3"
    },
    "accelerator": "GPU"
  },
  "cells": [
    {
      "cell_type": "markdown",
      "metadata": {
        "id": "view-in-github",
        "colab_type": "text"
      },
      "source": [
        "<a href=\"https://colab.research.google.com/github/KeyboarderSon/KerasExample/blob/main/BostonHousing.ipynb\" target=\"_parent\"><img src=\"https://colab.research.google.com/assets/colab-badge.svg\" alt=\"Open In Colab\"/></a>"
      ]
    },
    {
      "cell_type": "markdown",
      "metadata": {
        "id": "BnCdAufX-EJc"
      },
      "source": [
        "## 주택 가격 예측\r\n",
        "\r\n",
        "범죄율, 지방세율 등의 데이터가 주어졌을 때 주택 가격의 중간 값을 예측해보자."
      ]
    },
    {
      "cell_type": "markdown",
      "metadata": {
        "id": "oHfFeTUM-HCG"
      },
      "source": [
        "404개의 training set, 102개의 test set으로 구성된 데이터셋이다.<br>\r\n",
        "feature은 총 13가지로 1인당 범죄율 주택당 평균 방의 개수, 고속도로 접근성 등이 있다."
      ]
    },
    {
      "cell_type": "code",
      "metadata": {
        "id": "GRe6y6MX9spZ"
      },
      "source": [
        "from keras.datasets import boston_housing\r\n",
        "\r\n",
        "(train_data, train_targets), (test_data, test_targets) = boston_housing.load_data()\r\n"
      ],
      "execution_count": 8,
      "outputs": []
    },
    {
      "cell_type": "code",
      "metadata": {
        "colab": {
          "base_uri": "https://localhost:8080/"
        },
        "id": "1vH9C6o09_-j",
        "outputId": "9e604f2b-1b94-4798-cd66-21270f71b133"
      },
      "source": [
        "print(train_data.shape)\r\n",
        "print(test_data.shape)"
      ],
      "execution_count": 9,
      "outputs": [
        {
          "output_type": "stream",
          "text": [
            "(404, 13)\n",
            "(102, 13)\n"
          ],
          "name": "stdout"
        }
      ]
    },
    {
      "cell_type": "markdown",
      "metadata": {
        "id": "6KZTMAlp-wnn"
      },
      "source": [
        "target은 주택의 중간 가격으로 천 달러 단위이다. 일부만 살펴보자."
      ]
    },
    {
      "cell_type": "code",
      "metadata": {
        "colab": {
          "base_uri": "https://localhost:8080/"
        },
        "id": "ct7k3Fz7-sgC",
        "outputId": "85ad929c-0cc0-46e4-bea1-0e3b16a6d91a"
      },
      "source": [
        "train_targets[:10]"
      ],
      "execution_count": 4,
      "outputs": [
        {
          "output_type": "execute_result",
          "data": {
            "text/plain": [
              "array([15.2, 42.3, 50. , 21.1, 17.7, 18.5, 11.3, 15.6, 15.6, 14.4])"
            ]
          },
          "metadata": {
            "tags": []
          },
          "execution_count": 4
        }
      ]
    },
    {
      "cell_type": "markdown",
      "metadata": {
        "id": "rnDkYyDq_EMl"
      },
      "source": [
        "### **데이터 전처리**"
      ]
    },
    {
      "cell_type": "markdown",
      "metadata": {
        "id": "KyNekkmN_ME_"
      },
      "source": [
        "feature마다 각기 다른 스케일을 가지게 되면 학습이 더 어렵다.\r\n",
        "\r\n",
        "<br>\r\n",
        "\r\n",
        "*특성별로 표준화를 하자!*\r\n",
        "$$Z = {X - m \\over \t\r\n",
        "\\sigma}$$\r\n",
        "\r\n",
        "특성의 중앙이 0 근처에 맞춰지고 표준 편차가 1이 된다.  \r\n",
        "테스트 데이터를 정규화할 때 사용한 값이 훈련데이터에서 계산한 값이다!  \r\n",
        "머신러닝 작업 과정에서 절대로 테스트 데이터에서 계산한 어떤 값도 사용해서는 안된다."
      ]
    },
    {
      "cell_type": "code",
      "metadata": {
        "id": "lCVvP1_l-1iW"
      },
      "source": [
        "#axis = 0은 row를 기준으로\r\n",
        "#각 특성별 표준화\r\n",
        "\r\n",
        "mean = train_data.mean(axis=0)\r\n",
        "train_data -= mean\r\n",
        "std = train_data.std(axis=0)\r\n",
        "train_data /= std\r\n",
        "\r\n",
        "test_data -= mean\r\n",
        "test_data /= std"
      ],
      "execution_count": 10,
      "outputs": []
    },
    {
      "cell_type": "markdown",
      "metadata": {
        "id": "zDa9daHnapsU"
      },
      "source": [
        "### **모델 구성**"
      ]
    },
    {
      "cell_type": "markdown",
      "metadata": {
        "id": "LH7cvtLPbDzO"
      },
      "source": [
        "훈련 데이터의 개수가 적을 수록 overfitting이 더 쉽게 일어나니 작은 모델을 사용하자.  \r\n",
        "동일한 모델을 여러 번 생성할 것이므로 함수를 만들어 사용해보자."
      ]
    },
    {
      "cell_type": "code",
      "metadata": {
        "id": "MakcB7twaIhq"
      },
      "source": [
        "from keras import models\r\n",
        "from keras import layers\r\n",
        "\r\n",
        "def build_model():\r\n",
        "  model = models.Sequential()\r\n",
        "  model.add(layers.Dense(64, activation = 'relu', input_shape=(train_data.shape[1],)))\r\n",
        "  model.add(layers.Dense(64, activation = 'relu'))\r\n",
        "  model.add(layers.Dense(1))\r\n",
        "  model.compile(optimizer='rmsprop', loss='mse', metrics=['mae'])\r\n",
        "  return model"
      ],
      "execution_count": 11,
      "outputs": []
    },
    {
      "cell_type": "markdown",
      "metadata": {
        "id": "X390w4FUb_Th"
      },
      "source": [
        "마지막 층에는 activation function이 없는데 이는 전형적인 스칼라 회귀(하나의 연속적인 값을 예측하는 회귀)를 위한 구성이다. 활성화 함수를 사용하면 출력값에 제한이 생긴다.  \r\n",
        "지표 'mae'는 평균 절대 오차로, 예측과 타깃 사이 거리의 절댓값이다.  \r\n",
        "예를 들어 이 예제에서 MAE=0.5라면 예측이 평균적으로 500달러 정도 차이 난다는 것이다."
      ]
    },
    {
      "cell_type": "markdown",
      "metadata": {
        "id": "W_mLX2N5eZpY"
      },
      "source": [
        "### K-겹 검증을 사용한 훈련 검증"
      ]
    },
    {
      "cell_type": "markdown",
      "metadata": {
        "id": "pk7T8vz2hW9p"
      },
      "source": [
        "데이터셋 자체가 작은 경우 validation set에 대한 성능평가의 신뢰성이 떨어지게 된다.  \r\n",
        "validation set을 어떻게 잡느냐에 따라 성능이 확확 달라지게 되면 이로 인해 모델 평가 지표에 편향이 생긴다.\r\n",
        "\r\n",
        "\r\n",
        "> K겹 검증 : training data의 모든 데이터가 한 번씩은 validation set으로 쓰이도록 한다!  \r\n",
        "\r\n",
        "이때 모델도 K개가 된다.  \r\n",
        "\r\n",
        "만약 K = 4라면  \r\n",
        "\r\n",
        "| A |  B | C | D |\r\n",
        "|----|----|----|----|\r\n",
        "|**검증**|훈련|훈련|훈련|\r\n",
        "|훈련|**검증**|훈련|훈련|\r\n",
        "|훈련|훈련|**검증**|훈련|\r\n",
        "|훈련|훈련|훈련|**검증**|\r\n",
        "\r\n",
        "이때, A+B+C+D = Training Set  \r\n",
        "\r\n",
        "모델의 검증 점수는 K개의 검증 점수 평균이 된다.\r\n",
        "\r\n"
      ]
    },
    {
      "cell_type": "markdown",
      "metadata": {
        "id": "o0F4WR0OyZ9Z"
      },
      "source": [
        "**K 겹 검증이 어떻게 동작하는지 보여주기 위하여**"
      ]
    },
    {
      "cell_type": "code",
      "metadata": {
        "colab": {
          "base_uri": "https://localhost:8080/"
        },
        "id": "ikQyKK3FbBkc",
        "outputId": "ab75931b-d87f-4088-a5b2-18dda1b0fe2c"
      },
      "source": [
        "import numpy as np\r\n",
        "\r\n",
        "\r\n",
        "k = 4\r\n",
        "\r\n",
        "num_val_samples = len(train_data) // k\r\n",
        "num_epochs = 100\r\n",
        "all_scores = []\r\n",
        "\r\n",
        "for i in range(k):\r\n",
        "  print(\"처리중인 폴드 #\", i)\r\n",
        "  val_data = train_data[i * num_val_samples : (i+1) * num_val_samples]\r\n",
        "  val_targets = train_targets[i * num_val_samples: (i+1) * num_val_samples]\r\n",
        "\r\n",
        "  partial_train_data = np.concatenate([train_data[: i * num_val_samples],\r\n",
        "                                      train_data[(i+1) * num_val_samples:]])\r\n",
        "  \r\n",
        "  partial_train_targets = np.concatenate([train_targets[: i * num_val_samples],\r\n",
        "                                         train_targets[(i+1) * num_val_samples :]])\r\n",
        "  \r\n",
        "  # k개의 새로운 모델로!\r\n",
        "  model = build_model()\r\n",
        "  model.fit(partial_train_data, partial_train_targets, epochs=num_epochs, batch_size = 1, verbose = 0)\r\n",
        "  val_mse, val_mae = model.evaluate(val_data, val_targets, verbose = 0)\r\n",
        "  all_scores.append(val_mae)"
      ],
      "execution_count": 13,
      "outputs": [
        {
          "output_type": "stream",
          "text": [
            "처리중인 폴드 # 0\n",
            "처리중인 폴드 # 1\n",
            "처리중인 폴드 # 2\n",
            "처리중인 폴드 # 3\n"
          ],
          "name": "stdout"
        }
      ]
    },
    {
      "cell_type": "markdown",
      "metadata": {
        "id": "37al0Tcj5lZI"
      },
      "source": [
        "각 모델별로 예측 주택값과의 차이가 이렇게 다르다. 이들의 평균값이 더 신뢰할만 하겠다."
      ]
    },
    {
      "cell_type": "code",
      "metadata": {
        "colab": {
          "base_uri": "https://localhost:8080/"
        },
        "id": "uBf87sUWoETA",
        "outputId": "ed6bd9f3-c5f8-4fd3-ff3a-7d9e1b0f8c37"
      },
      "source": [
        "all_scores"
      ],
      "execution_count": 14,
      "outputs": [
        {
          "output_type": "execute_result",
          "data": {
            "text/plain": [
              "[2.257486581802368, 2.7958240509033203, 2.5616376399993896, 2.4411327838897705]"
            ]
          },
          "metadata": {
            "tags": []
          },
          "execution_count": 14
        }
      ]
    },
    {
      "cell_type": "code",
      "metadata": {
        "colab": {
          "base_uri": "https://localhost:8080/"
        },
        "id": "kaCsvjfBwAQE",
        "outputId": "75f6f841-1711-4b44-d4af-db366945c049"
      },
      "source": [
        "np.mean(all_scores)"
      ],
      "execution_count": 15,
      "outputs": [
        {
          "output_type": "execute_result",
          "data": {
            "text/plain": [
              "2.514020264148712"
            ]
          },
          "metadata": {
            "tags": []
          },
          "execution_count": 15
        }
      ]
    },
    {
      "cell_type": "markdown",
      "metadata": {
        "id": "J48wadb5w1_3"
      },
      "source": [
        "### Epoch = 500, 로그를 남기며 훈련시켜보자"
      ]
    },
    {
      "cell_type": "code",
      "metadata": {
        "colab": {
          "base_uri": "https://localhost:8080/"
        },
        "id": "s1D4kqxqww1W",
        "outputId": "46339f92-5a34-4d16-824a-6f012ec1b301"
      },
      "source": [
        "num_epochs = 500\r\n",
        "all_mae_histories = []\r\n",
        "\r\n",
        "for i in range(k):\r\n",
        "  print(\"처리중인 폴드 #\", i)\r\n",
        "  val_data = train_data[i * num_val_samples : (i+1) * num_val_samples]\r\n",
        "  val_targets = train_targets[i * num_val_samples: (i+1) * num_val_samples]\r\n",
        "\r\n",
        "  partial_train_data = np.concatenate([train_data[: i * num_val_samples],\r\n",
        "                                      train_data[(i+1) * num_val_samples:]])\r\n",
        "  \r\n",
        "  partial_train_targets = np.concatenate([train_targets[: i * num_val_samples],\r\n",
        "                                         train_targets[(i+1) * num_val_samples :]])\r\n",
        "  \r\n",
        "  model = build_model()\r\n",
        "  history = model.fit(partial_train_data, partial_train_targets, \r\n",
        "            validation_data=(val_data, val_targets),\r\n",
        "            epochs = num_epochs, batch_size = 1, verbose = 0)\r\n",
        "  mae_history = history.history['val_mae']\r\n",
        "  all_mae_histories.append(mae_history)"
      ],
      "execution_count": 18,
      "outputs": [
        {
          "output_type": "stream",
          "text": [
            "처리중인 폴드 # 0\n",
            "처리중인 폴드 # 1\n",
            "처리중인 폴드 # 2\n",
            "처리중인 폴드 # 3\n"
          ],
          "name": "stdout"
        }
      ]
    },
    {
      "cell_type": "markdown",
      "metadata": {
        "id": "sCPvRJQGzFEZ"
      },
      "source": [
        "모든 폴드에 대해 epoch의 MAE 점수 평균을 계산한다"
      ]
    },
    {
      "cell_type": "code",
      "metadata": {
        "id": "jumNcGHzym5B"
      },
      "source": [
        "average_mae_history = [np.mean([x[i] for x in all_mae_histories]) for i in range(num_epochs)]"
      ],
      "execution_count": 20,
      "outputs": []
    },
    {
      "cell_type": "markdown",
      "metadata": {
        "id": "QSqOYM6z-8Cq"
      },
      "source": [
        "**Epoch별 검증 MAE**"
      ]
    },
    {
      "cell_type": "code",
      "metadata": {
        "colab": {
          "base_uri": "https://localhost:8080/",
          "height": 279
        },
        "id": "Jh6a9ZXmzCji",
        "outputId": "8c7132d3-117f-403c-a2d2-c8375888240c"
      },
      "source": [
        "import matplotlib.pyplot as plt\r\n",
        "\r\n",
        "plt.plot(range(1, len(average_mae_history)+1), average_mae_history)\r\n",
        "\r\n",
        "plt.xlabel('Epochs')\r\n",
        "plt.ylabel('Validation MAE')\r\n",
        "plt.show()"
      ],
      "execution_count": 24,
      "outputs": [
        {
          "output_type": "display_data",
          "data": {
            "image/png": "[encoded data removed]",
            "text/plain": [
              "<Figure size 432x288 with 1 Axes>"
            ]
          },
          "metadata": {
            "tags": [],
            "needs_background": "light"
          }
        }
      ]
    },
    {
      "cell_type": "markdown",
      "metadata": {
        "id": "mfg6d_FpznT9"
      },
      "source": [
        "훈련 시작으로부터 대략 10 epoch 까지 범위 변동이 크고 보다 부드러운 곡선을 얻기 위해  \r\n",
        "* 첫 10개의 데이터 포인트를 제외시키고\r\n",
        "* 지수 이동 평균으로 대체한다.\r\n",
        "  이는 시계열 데이터를 부드럽게 만드는 기법 중 하나이다."
      ]
    },
    {
      "cell_type": "markdown",
      "metadata": {
        "id": "OP1WprDL0a5a"
      },
      "source": [
        "**처음 10개의 데이터 포인트를 제외한 검증 MAE 그리기**"
      ]
    },
    {
      "cell_type": "code",
      "metadata": {
        "colab": {
          "base_uri": "https://localhost:8080/",
          "height": 279
        },
        "id": "-c2f4H9_0fcv",
        "outputId": "1f6f39db-0ed2-4b93-c21f-e51f897c562f"
      },
      "source": [
        "def smooth_curve(points, factor=0.9):\r\n",
        "  smoothed_points=[]\r\n",
        "  for point in points:\r\n",
        "    if smoothed_points:\r\n",
        "      previous = smoothed_points[-1]\r\n",
        "      smoothed_points.append(previous * factor + point * (1 - factor))\r\n",
        "    else:\r\n",
        "      smoothed_points.append(point)\r\n",
        "  return smoothed_points\r\n",
        "\r\n",
        "smooth_mae_history = smooth_curve(average_mae_history[10:])\r\n",
        "\r\n",
        "plt.plot(range(1, len(smooth_mae_history)+1), smooth_mae_history)\r\n",
        "plt.xlabel('Epochs')\r\n",
        "plt.ylabel('Validation MAE')\r\n",
        "plt.show()"
      ],
      "execution_count": 25,
      "outputs": [
        {
          "output_type": "display_data",
          "data": {
            "image/png": "[encoded data removed]",
            "text/plain": [
              "<Figure size 432x288 with 1 Axes>"
            ]
          },
          "metadata": {
            "tags": [],
            "needs_background": "light"
          }
        }
      ]
    },
    {
      "cell_type": "markdown",
      "metadata": {
        "id": "ztpOJdJD5863"
      },
      "source": [
        "약 80 epoch 이후에 다시 증가한다. 그 시점 이후로는 오버피팅이 된 것으로 보인다."
      ]
    }
  ]
}